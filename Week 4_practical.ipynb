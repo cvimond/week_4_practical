{
 "cells": [
  {
   "cell_type": "markdown",
   "id": "2612a45e",
   "metadata": {},
   "source": [
    "### Instructions:\n",
    "\n",
    "1. Import all the libraries you need in the cell below\n",
    "2. Create as many cells as needed to answer a question\n",
    "  * Group code that is logically related in the same cell\n",
    "  * Keep cells relatively small\n",
    "  * Format long statements or expressions, including `ggplot`, across multiple lines\n",
    "3. Submit your work to Github\n",
    "  * Folder should be called `week_4_practical`\n",
    "  * This file should be called `week_4_solution.ipynb`\n",
    "    "
   ]
  },
  {
   "cell_type": "code",
   "execution_count": 1,
   "id": "320472a2",
   "metadata": {
    "scrolled": true
   },
   "outputs": [
    {
     "name": "stderr",
     "output_type": "stream",
     "text": [
      "Registered S3 methods overwritten by 'ggplot2':\n",
      "  method         from \n",
      "  [.quosures     rlang\n",
      "  c.quosures     rlang\n",
      "  print.quosures rlang\n",
      "\n",
      "Registered S3 method overwritten by 'rvest':\n",
      "  method            from\n",
      "  read_xml.response xml2\n",
      "\n",
      "-- \u001b[1mAttaching packages\u001b[22m --------------------------------------- tidyverse 1.2.1 --\n",
      "\n",
      "\u001b[32mv\u001b[39m \u001b[34mtibble \u001b[39m 2.1.1       \u001b[32mv\u001b[39m \u001b[34mpurrr  \u001b[39m 0.3.2  \n",
      "\u001b[32mv\u001b[39m \u001b[34mtidyr  \u001b[39m 0.8.3       \u001b[32mv\u001b[39m \u001b[34mdplyr  \u001b[39m 0.8.0.\u001b[31m1\u001b[39m\n",
      "\u001b[32mv\u001b[39m \u001b[34mreadr  \u001b[39m 1.3.1       \u001b[32mv\u001b[39m \u001b[34mstringr\u001b[39m 1.4.0  \n",
      "\u001b[32mv\u001b[39m \u001b[34mtibble \u001b[39m 2.1.1       \u001b[32mv\u001b[39m \u001b[34mforcats\u001b[39m 0.4.0  \n",
      "\n",
      "-- \u001b[1mConflicts\u001b[22m ------------------------------------------ tidyverse_conflicts() --\n",
      "\u001b[31mx\u001b[39m \u001b[34mdplyr\u001b[39m::\u001b[32mfilter()\u001b[39m masks \u001b[34mstats\u001b[39m::filter()\n",
      "\u001b[31mx\u001b[39m \u001b[34mdplyr\u001b[39m::\u001b[32mlag()\u001b[39m    masks \u001b[34mstats\u001b[39m::lag()\n",
      "\n"
     ]
    }
   ],
   "source": [
    "library(ggplot2 )\n",
    "library(tidyverse)"
   ]
  },
  {
   "cell_type": "markdown",
   "id": "9d1f436c",
   "metadata": {},
   "source": [
    "### Q.1\n",
    "\n",
    "* Write a function that manually computes the standard deviation.\n",
    "  * Call your function `sd_x`\n",
    "\n",
    "Recall that the standard deviation is computed as\n",
    "\n",
    "$$\n",
    "\\sigma = \\sqrt{\\frac{\\sum{(x_i - \\mu)^2}}{N-1}}\n",
    "$$\n",
    "\n",
    "* $\\mu$ is simply the mean of the vector of inputs\n",
    "  * it can be computed using the `mean` function\n",
    "\n",
    "\n",
    "For example, given:\n",
    "\n",
    "```x = c(1,2,3)```\n",
    "\n",
    "Since $\\mu = 2$, then $\\sigma = \\sqrt{\\frac{(1-2)^2 + (2-2)^2 + (3-2)^2}{3}} = 1$.\n",
    "\n",
    "* Important: What do you do if this function is called with a single element?\n",
    "  * Recall that we cannot compute the std deviation of a single value\n",
    "\n",
    "* Use `assertthat` to make sure that `sd_x` and `sd` return the same values for 3 test vectors of your choice."
   ]
  },
  {
   "cell_type": "code",
   "execution_count": 38,
   "id": "e1128ca2",
   "metadata": {},
   "outputs": [
    {
     "name": "stdout",
     "output_type": "stream",
     "text": [
      "[1] 2\n",
      "[1] 1 0 1\n",
      "[1] 2\n",
      "[1] 1\n"
     ]
    },
    {
     "data": {
      "text/html": [
       "1"
      ],
      "text/latex": [
       "1"
      ],
      "text/markdown": [
       "1"
      ],
      "text/plain": [
       "[1] 1"
      ]
     },
     "metadata": {},
     "output_type": "display_data"
    }
   ],
   "source": [
    "d = c(1,2,3)\n",
    "m = mean(d)\n",
    "print(m)\n",
    "\n",
    "squared = (d-m)^2\n",
    "print(squared)\n",
    "\n",
    "sum_square = sum(squared)\n",
    "print(sum_square)\n",
    "\n",
    "normalize = sum_square/(length(d)-1)\n",
    "print(normalize)\n",
    "\n",
    "sqrt(normalize)"
   ]
  },
  {
   "cell_type": "code",
   "execution_count": 28,
   "id": "29004cb5",
   "metadata": {},
   "outputs": [],
   "source": [
    "sd_x = function(d){\n",
    "    \n",
    "    m = mean(d)\n",
    "    squared = (d-m)^2\n",
    "    sum_square = sum(squared)\n",
    "    normalize = sum_square/(length(d)-1)\n",
    "    sqrt(normalize)\n",
    "}"
   ]
  },
  {
   "cell_type": "code",
   "execution_count": 36,
   "id": "41dba35a",
   "metadata": {},
   "outputs": [
    {
     "data": {
      "text/html": [
       "1"
      ],
      "text/latex": [
       "1"
      ],
      "text/markdown": [
       "1"
      ],
      "text/plain": [
       "[1] 1"
      ]
     },
     "metadata": {},
     "output_type": "display_data"
    },
    {
     "data": {
      "text/html": [
       "1"
      ],
      "text/latex": [
       "1"
      ],
      "text/markdown": [
       "1"
      ],
      "text/plain": [
       "[1] 1"
      ]
     },
     "metadata": {},
     "output_type": "display_data"
    },
    {
     "data": {
      "text/html": [
       "TRUE"
      ],
      "text/latex": [
       "TRUE"
      ],
      "text/markdown": [
       "TRUE"
      ],
      "text/plain": [
       "[1] TRUE"
      ]
     },
     "metadata": {},
     "output_type": "display_data"
    }
   ],
   "source": [
    "# Write you answer here and use more cell if needed\n",
    "data = c(1,2,3)\n",
    "sd(data)\n",
    "sd_x(data)\n",
    "assert_that(sd_x(data) == sd(data))"
   ]
  },
  {
   "cell_type": "markdown",
   "id": "dec09c62",
   "metadata": {},
   "source": [
    "### Q2\n",
    "\n",
    "* In this question, we will build a simulated dataset for healthy and diseased corals.  You will be creating a `tibble` called `coral_health_tbl` that contains 2 columns:\n",
    "\n",
    "1. A column called `coral`. Generate this column by sampling 100 coral species from the following values\n",
    "```\n",
    "coral_pop = c(\"Montipora capitata\",\n",
    "                 \"Porites compressa\",\n",
    "                 \"Porites lobata\")\n",
    "```\n",
    " * You can use the function `sample` to select 100 values from the vector `coral_pop`\n",
    " \n",
    "2. The second column is called `health_status`.\n",
    "    * it represents 100 randomly selected `TRUE` or `FALSE` values that represent whether the coral is healthy or diseased.\n",
    "    * Healthy corals (`health_status == FALSE`; not diseased) occur with a probability of 0.8 wheras diseased (`health_status == TRUE`) corals occur with a probability of 0.2.\n",
    "    * You can use sample again but modify the `prob` parameter to account for the differet probabilities\n"
   ]
  },
  {
   "cell_type": "code",
   "execution_count": 62,
   "id": "11f7dac2",
   "metadata": {},
   "outputs": [],
   "source": [
    "?sample"
   ]
  },
  {
   "cell_type": "code",
   "execution_count": 61,
   "id": "78f2beec",
   "metadata": {},
   "outputs": [],
   "source": [
    "# three col = selection of coral pop generate 100 values\n",
    "# number after , is # of values you want selected\n",
    "coral_pop = sample(c(\"Montipora capitata\", \"Porites compressa\", \"Porites lobata\"), 100, replace = TRUE)"
   ]
  },
  {
   "cell_type": "code",
   "execution_count": 62,
   "id": "a8ec5328",
   "metadata": {},
   "outputs": [
    {
     "name": "stdout",
     "output_type": "stream",
     "text": [
      "  [1] FALSE FALSE FALSE FALSE FALSE FALSE  TRUE FALSE  TRUE FALSE FALSE FALSE\n",
      " [13] FALSE FALSE FALSE FALSE FALSE FALSE FALSE FALSE FALSE FALSE FALSE FALSE\n",
      " [25] FALSE FALSE FALSE FALSE FALSE FALSE FALSE FALSE FALSE FALSE  TRUE FALSE\n",
      " [37] FALSE  TRUE  TRUE FALSE  TRUE FALSE FALSE FALSE FALSE FALSE FALSE FALSE\n",
      " [49] FALSE FALSE FALSE  TRUE FALSE FALSE  TRUE  TRUE FALSE FALSE FALSE FALSE\n",
      " [61] FALSE FALSE FALSE  TRUE FALSE FALSE FALSE FALSE FALSE FALSE FALSE  TRUE\n",
      " [73] FALSE  TRUE FALSE  TRUE FALSE  TRUE FALSE FALSE FALSE FALSE FALSE FALSE\n",
      " [85] FALSE FALSE  TRUE FALSE FALSE FALSE FALSE FALSE FALSE  TRUE FALSE FALSE\n",
      " [97]  TRUE FALSE  TRUE FALSE\n"
     ]
    }
   ],
   "source": [
    "health_status = sample(c(TRUE, FALSE), 100, replace = TRUE, prob = c(0.2, 0.8))\n",
    "print(health_status)"
   ]
  },
  {
   "cell_type": "code",
   "execution_count": 63,
   "id": "49728de0",
   "metadata": {},
   "outputs": [],
   "source": [
    "coral_df = data.frame(coral_pop, health_status)"
   ]
  },
  {
   "cell_type": "code",
   "execution_count": 64,
   "id": "bb5a0e2f",
   "metadata": {},
   "outputs": [
    {
     "name": "stdout",
     "output_type": "stream",
     "text": [
      "\u001b[90m# A tibble: 100 x 2\u001b[39m\n",
      "   coral_pop          health_status\n",
      "   \u001b[3m\u001b[90m<fct>\u001b[39m\u001b[23m              \u001b[3m\u001b[90m<lgl>\u001b[39m\u001b[23m        \n",
      "\u001b[90m 1\u001b[39m Montipora capitata FALSE        \n",
      "\u001b[90m 2\u001b[39m Montipora capitata FALSE        \n",
      "\u001b[90m 3\u001b[39m Montipora capitata FALSE        \n",
      "\u001b[90m 4\u001b[39m Porites lobata     FALSE        \n",
      "\u001b[90m 5\u001b[39m Porites compressa  FALSE        \n",
      "\u001b[90m 6\u001b[39m Porites compressa  FALSE        \n",
      "\u001b[90m 7\u001b[39m Porites compressa  TRUE         \n",
      "\u001b[90m 8\u001b[39m Porites compressa  FALSE        \n",
      "\u001b[90m 9\u001b[39m Montipora capitata TRUE         \n",
      "\u001b[90m10\u001b[39m Porites compressa  FALSE        \n",
      "\u001b[90m# ... with 90 more rows\u001b[39m\n"
     ]
    }
   ],
   "source": [
    "coral_health_tbl = as_tibble(coral_df)\n",
    "print(coral_health_tbl)"
   ]
  },
  {
   "cell_type": "markdown",
   "id": "dacc2558",
   "metadata": {},
   "source": [
    "### Q3\n",
    "\n",
    "* Create a new column in `coral_health_tbl` called `coral_cover`\n",
    "* This column represents coral cover values for the corals observed in your tibble\n",
    "\n",
    "* For the healthy coral (`health_status = TRUE`), sample the cover values from a normal with mean 9 and std of 2\n",
    "* For the diseased corals (`health_status = FALSE`), sample the cover values from a normal with mean 1 and std of 3\n",
    "* Note that this is a perfect scenario for using `mapply`"
   ]
  },
  {
   "cell_type": "code",
   "execution_count": 65,
   "id": "b41846b7",
   "metadata": {},
   "outputs": [
    {
     "data": {
      "text/html": [
       "7.65559004288041"
      ],
      "text/latex": [
       "7.65559004288041"
      ],
      "text/markdown": [
       "7.65559004288041"
      ],
      "text/plain": [
       "[1] 7.65559"
      ]
     },
     "metadata": {},
     "output_type": "display_data"
    }
   ],
   "source": [
    "rnorm(1, mean=9, sd=2)"
   ]
  },
  {
   "cell_type": "code",
   "execution_count": 66,
   "id": "c7f65e82",
   "metadata": {},
   "outputs": [],
   "source": [
    "return_cover = function(x){\n",
    "    if(x == TRUE){\n",
    "        rnorm(1, mean=1, sd=3)\n",
    "    }else{ \n",
    "        rnorm(1, mean=9, sd=2)\n",
    "    }\n",
    "    \n",
    "}"
   ]
  },
  {
   "cell_type": "code",
   "execution_count": 67,
   "id": "59aaa8d8",
   "metadata": {},
   "outputs": [
    {
     "data": {
      "text/html": [
       "9.4469794876613"
      ],
      "text/latex": [
       "9.4469794876613"
      ],
      "text/markdown": [
       "9.4469794876613"
      ],
      "text/plain": [
       "[1] 9.446979"
      ]
     },
     "metadata": {},
     "output_type": "display_data"
    }
   ],
   "source": [
    "#test\n",
    "return_cover(FALSE)"
   ]
  },
  {
   "cell_type": "code",
   "execution_count": 68,
   "id": "60eaad2d",
   "metadata": {},
   "outputs": [
    {
     "data": {
      "text/html": [
       "11.6408770677136"
      ],
      "text/latex": [
       "11.6408770677136"
      ],
      "text/markdown": [
       "11.6408770677136"
      ],
      "text/plain": [
       "[1] 11.64088"
      ]
     },
     "metadata": {},
     "output_type": "display_data"
    },
    {
     "data": {
      "text/html": [
       "11.2881042528937"
      ],
      "text/latex": [
       "11.2881042528937"
      ],
      "text/markdown": [
       "11.2881042528937"
      ],
      "text/plain": [
       "[1] 11.2881"
      ]
     },
     "metadata": {},
     "output_type": "display_data"
    },
    {
     "data": {
      "text/html": [
       "0.636918321552265"
      ],
      "text/latex": [
       "0.636918321552265"
      ],
      "text/markdown": [
       "0.636918321552265"
      ],
      "text/plain": [
       "[1] 0.6369183"
      ]
     },
     "metadata": {},
     "output_type": "display_data"
    },
    {
     "data": {
      "text/html": [
       "9.65352595379884"
      ],
      "text/latex": [
       "9.65352595379884"
      ],
      "text/markdown": [
       "9.65352595379884"
      ],
      "text/plain": [
       "[1] 9.653526"
      ]
     },
     "metadata": {},
     "output_type": "display_data"
    }
   ],
   "source": [
    "#test\n",
    "return_cover(FALSE)\n",
    "return_cover(FALSE)\n",
    "return_cover(TRUE)\n",
    "return_cover(FALSE)"
   ]
  },
  {
   "cell_type": "code",
   "execution_count": 69,
   "id": "d8320650",
   "metadata": {},
   "outputs": [
    {
     "data": {
      "text/html": [
       "<table>\n",
       "<thead><tr><th scope=col>coral_pop</th><th scope=col>health_status</th></tr></thead>\n",
       "<tbody>\n",
       "\t<tr><td>Montipora capitata</td><td>FALSE             </td></tr>\n",
       "\t<tr><td>Montipora capitata</td><td>FALSE             </td></tr>\n",
       "\t<tr><td>Montipora capitata</td><td>FALSE             </td></tr>\n",
       "\t<tr><td>Porites lobata    </td><td>FALSE             </td></tr>\n",
       "\t<tr><td>Porites compressa </td><td>FALSE             </td></tr>\n",
       "\t<tr><td>Porites compressa </td><td>FALSE             </td></tr>\n",
       "</tbody>\n",
       "</table>\n"
      ],
      "text/latex": [
       "\\begin{tabular}{r|ll}\n",
       " coral\\_pop & health\\_status\\\\\n",
       "\\hline\n",
       "\t Montipora capitata & FALSE             \\\\\n",
       "\t Montipora capitata & FALSE             \\\\\n",
       "\t Montipora capitata & FALSE             \\\\\n",
       "\t Porites lobata     & FALSE             \\\\\n",
       "\t Porites compressa  & FALSE             \\\\\n",
       "\t Porites compressa  & FALSE             \\\\\n",
       "\\end{tabular}\n"
      ],
      "text/markdown": [
       "\n",
       "| coral_pop | health_status |\n",
       "|---|---|\n",
       "| Montipora capitata | FALSE              |\n",
       "| Montipora capitata | FALSE              |\n",
       "| Montipora capitata | FALSE              |\n",
       "| Porites lobata     | FALSE              |\n",
       "| Porites compressa  | FALSE              |\n",
       "| Porites compressa  | FALSE              |\n",
       "\n"
      ],
      "text/plain": [
       "  coral_pop          health_status\n",
       "1 Montipora capitata FALSE        \n",
       "2 Montipora capitata FALSE        \n",
       "3 Montipora capitata FALSE        \n",
       "4 Porites lobata     FALSE        \n",
       "5 Porites compressa  FALSE        \n",
       "6 Porites compressa  FALSE        "
      ]
     },
     "metadata": {},
     "output_type": "display_data"
    }
   ],
   "source": [
    "## test \n",
    "head(coral_health_tbl)"
   ]
  },
  {
   "cell_type": "code",
   "execution_count": 70,
   "id": "8d30b2fc",
   "metadata": {},
   "outputs": [],
   "source": [
    "coral_cover = mapply(return_cover, health_status)"
   ]
  },
  {
   "cell_type": "code",
   "execution_count": 71,
   "id": "a4092e37",
   "metadata": {},
   "outputs": [
    {
     "name": "stdout",
     "output_type": "stream",
     "text": [
      "             coral_pop health_status coral_cover\n",
      "1   Montipora capitata         FALSE   6.3609186\n",
      "2   Montipora capitata         FALSE   8.7965813\n",
      "3   Montipora capitata         FALSE   9.9642444\n",
      "4       Porites lobata         FALSE   8.2921277\n",
      "5    Porites compressa         FALSE   8.0920480\n",
      "6    Porites compressa         FALSE   7.7495577\n",
      "7    Porites compressa          TRUE   2.8301882\n",
      "8    Porites compressa         FALSE  10.3462631\n",
      "9   Montipora capitata          TRUE   1.1340278\n",
      "10   Porites compressa         FALSE  10.3209686\n",
      "11      Porites lobata         FALSE   9.8222496\n",
      "12   Porites compressa         FALSE   5.7274772\n",
      "13  Montipora capitata         FALSE  10.0436281\n",
      "14   Porites compressa         FALSE  13.5279271\n",
      "15      Porites lobata         FALSE  11.9059285\n",
      "16   Porites compressa         FALSE  12.5133822\n",
      "17  Montipora capitata         FALSE  11.0701045\n",
      "18  Montipora capitata         FALSE   6.5567679\n",
      "19      Porites lobata         FALSE   8.0886061\n",
      "20  Montipora capitata         FALSE  12.3858750\n",
      "21      Porites lobata         FALSE   9.2780167\n",
      "22      Porites lobata         FALSE  11.1537537\n",
      "23  Montipora capitata         FALSE   7.8450532\n",
      "24      Porites lobata         FALSE   9.8481403\n",
      "25      Porites lobata         FALSE  10.5175365\n",
      "26  Montipora capitata         FALSE   9.1359552\n",
      "27   Porites compressa         FALSE   6.8332780\n",
      "28  Montipora capitata         FALSE   9.8075515\n",
      "29   Porites compressa         FALSE   8.4165896\n",
      "30   Porites compressa         FALSE   8.2322424\n",
      "31      Porites lobata         FALSE   4.8059869\n",
      "32      Porites lobata         FALSE   8.0854893\n",
      "33      Porites lobata         FALSE  10.0763330\n",
      "34   Porites compressa         FALSE   8.9401437\n",
      "35  Montipora capitata          TRUE  -0.8881972\n",
      "36   Porites compressa         FALSE  11.1451077\n",
      "37   Porites compressa         FALSE   7.7109328\n",
      "38      Porites lobata          TRUE   5.6885770\n",
      "39   Porites compressa          TRUE   5.6140304\n",
      "40   Porites compressa         FALSE   7.6683910\n",
      "41   Porites compressa          TRUE  -0.1292109\n",
      "42      Porites lobata         FALSE   8.8334211\n",
      "43  Montipora capitata         FALSE   9.0710546\n",
      "44   Porites compressa         FALSE   8.7261677\n",
      "45      Porites lobata         FALSE   5.4670524\n",
      "46  Montipora capitata         FALSE  11.4139033\n",
      "47   Porites compressa         FALSE   9.0687089\n",
      "48   Porites compressa         FALSE   9.4308804\n",
      "49      Porites lobata         FALSE  11.9300710\n",
      "50  Montipora capitata         FALSE  11.0086986\n",
      "51  Montipora capitata         FALSE  11.1320438\n",
      "52   Porites compressa          TRUE   6.2811078\n",
      "53      Porites lobata         FALSE  11.8056120\n",
      "54  Montipora capitata         FALSE   6.5866987\n",
      "55   Porites compressa          TRUE  -3.5555693\n",
      "56      Porites lobata          TRUE   3.5692472\n",
      "57   Porites compressa         FALSE  11.9810402\n",
      "58      Porites lobata         FALSE  12.2408451\n",
      "59      Porites lobata         FALSE   8.2362726\n",
      "60  Montipora capitata         FALSE   9.6236860\n",
      "61  Montipora capitata         FALSE  10.7685758\n",
      "62  Montipora capitata         FALSE   9.4108760\n",
      "63      Porites lobata         FALSE  10.3528094\n",
      "64   Porites compressa          TRUE   3.6628369\n",
      "65   Porites compressa         FALSE   9.5916670\n",
      "66      Porites lobata         FALSE   6.8991385\n",
      "67   Porites compressa         FALSE  10.8406184\n",
      "68   Porites compressa         FALSE  13.6144403\n",
      "69      Porites lobata         FALSE   7.2188674\n",
      "70   Porites compressa         FALSE   7.5698775\n",
      "71  Montipora capitata         FALSE   7.6481046\n",
      "72   Porites compressa          TRUE   1.6524520\n",
      "73   Porites compressa         FALSE  11.5167433\n",
      "74  Montipora capitata          TRUE  -1.8959794\n",
      "75      Porites lobata         FALSE  13.7520489\n",
      "76   Porites compressa          TRUE  -0.4822119\n",
      "77  Montipora capitata         FALSE   7.5019943\n",
      "78      Porites lobata          TRUE  -1.6606388\n",
      "79   Porites compressa         FALSE   9.4841433\n",
      "80   Porites compressa         FALSE   9.3792642\n",
      "81      Porites lobata         FALSE   8.7587201\n",
      "82  Montipora capitata         FALSE   9.5099879\n",
      "83   Porites compressa         FALSE   8.9681098\n",
      "84   Porites compressa         FALSE   7.8696425\n",
      "85  Montipora capitata         FALSE   8.8026476\n",
      "86      Porites lobata         FALSE   9.5460637\n",
      "87   Porites compressa          TRUE   6.5980673\n",
      "88      Porites lobata         FALSE   9.2327003\n",
      "89  Montipora capitata         FALSE   3.7927654\n",
      "90   Porites compressa         FALSE   8.1997319\n",
      "91   Porites compressa         FALSE   6.7735600\n",
      "92   Porites compressa         FALSE   9.3744868\n",
      "93      Porites lobata         FALSE   7.6986281\n",
      "94      Porites lobata          TRUE  -1.3399450\n",
      "95      Porites lobata         FALSE   6.8908953\n",
      "96      Porites lobata         FALSE  10.2868182\n",
      "97      Porites lobata          TRUE   3.9582687\n",
      "98  Montipora capitata         FALSE  10.2224815\n",
      "99   Porites compressa          TRUE   1.8111684\n",
      "100 Montipora capitata         FALSE   7.3264346\n"
     ]
    }
   ],
   "source": [
    "coral_df$coral_cover = coral_cover\n",
    "print(coral_df)"
   ]
  },
  {
   "cell_type": "markdown",
   "id": "fa18322d",
   "metadata": {},
   "source": [
    "### Q4\n",
    "\n",
    "* Add another column called `binary_health_status`.\n",
    " * set the column to 0 if `health_status == FALSE`\n",
    " * set the column to 1 if `health_status == TRUE`\n",
    "\n",
    "* A trick here is to remember that:\n",
    "  1. Corecing (converting) a logical can be done with `as.integer()`\n",
    "  2. `as.integer(TRUE)` returns 1\n",
    "  3. `as.integer(FALSE)` returns 0\n",
    "\n",
    "\n"
   ]
  },
  {
   "cell_type": "code",
   "execution_count": 72,
   "id": "013461ec",
   "metadata": {},
   "outputs": [],
   "source": [
    "binary_health_return = function(x){\n",
    "    if( x == TRUE){\n",
    "        as.integer(TRUE)\n",
    "    }else{ \n",
    "        as.integer(FALSE)\n",
    "    }\n",
    "    \n",
    "}"
   ]
  },
  {
   "cell_type": "code",
   "execution_count": 73,
   "id": "338793b0",
   "metadata": {},
   "outputs": [],
   "source": [
    "binary_health_status = mapply(binary_health_return, health_status)"
   ]
  },
  {
   "cell_type": "code",
   "execution_count": 74,
   "id": "4659d3bc",
   "metadata": {},
   "outputs": [
    {
     "name": "stdout",
     "output_type": "stream",
     "text": [
      "             coral_pop health_status coral_cover binary_health_status\n",
      "1   Montipora capitata         FALSE   6.3609186                    0\n",
      "2   Montipora capitata         FALSE   8.7965813                    0\n",
      "3   Montipora capitata         FALSE   9.9642444                    0\n",
      "4       Porites lobata         FALSE   8.2921277                    0\n",
      "5    Porites compressa         FALSE   8.0920480                    0\n",
      "6    Porites compressa         FALSE   7.7495577                    0\n",
      "7    Porites compressa          TRUE   2.8301882                    1\n",
      "8    Porites compressa         FALSE  10.3462631                    0\n",
      "9   Montipora capitata          TRUE   1.1340278                    1\n",
      "10   Porites compressa         FALSE  10.3209686                    0\n",
      "11      Porites lobata         FALSE   9.8222496                    0\n",
      "12   Porites compressa         FALSE   5.7274772                    0\n",
      "13  Montipora capitata         FALSE  10.0436281                    0\n",
      "14   Porites compressa         FALSE  13.5279271                    0\n",
      "15      Porites lobata         FALSE  11.9059285                    0\n",
      "16   Porites compressa         FALSE  12.5133822                    0\n",
      "17  Montipora capitata         FALSE  11.0701045                    0\n",
      "18  Montipora capitata         FALSE   6.5567679                    0\n",
      "19      Porites lobata         FALSE   8.0886061                    0\n",
      "20  Montipora capitata         FALSE  12.3858750                    0\n",
      "21      Porites lobata         FALSE   9.2780167                    0\n",
      "22      Porites lobata         FALSE  11.1537537                    0\n",
      "23  Montipora capitata         FALSE   7.8450532                    0\n",
      "24      Porites lobata         FALSE   9.8481403                    0\n",
      "25      Porites lobata         FALSE  10.5175365                    0\n",
      "26  Montipora capitata         FALSE   9.1359552                    0\n",
      "27   Porites compressa         FALSE   6.8332780                    0\n",
      "28  Montipora capitata         FALSE   9.8075515                    0\n",
      "29   Porites compressa         FALSE   8.4165896                    0\n",
      "30   Porites compressa         FALSE   8.2322424                    0\n",
      "31      Porites lobata         FALSE   4.8059869                    0\n",
      "32      Porites lobata         FALSE   8.0854893                    0\n",
      "33      Porites lobata         FALSE  10.0763330                    0\n",
      "34   Porites compressa         FALSE   8.9401437                    0\n",
      "35  Montipora capitata          TRUE  -0.8881972                    1\n",
      "36   Porites compressa         FALSE  11.1451077                    0\n",
      "37   Porites compressa         FALSE   7.7109328                    0\n",
      "38      Porites lobata          TRUE   5.6885770                    1\n",
      "39   Porites compressa          TRUE   5.6140304                    1\n",
      "40   Porites compressa         FALSE   7.6683910                    0\n",
      "41   Porites compressa          TRUE  -0.1292109                    1\n",
      "42      Porites lobata         FALSE   8.8334211                    0\n",
      "43  Montipora capitata         FALSE   9.0710546                    0\n",
      "44   Porites compressa         FALSE   8.7261677                    0\n",
      "45      Porites lobata         FALSE   5.4670524                    0\n",
      "46  Montipora capitata         FALSE  11.4139033                    0\n",
      "47   Porites compressa         FALSE   9.0687089                    0\n",
      "48   Porites compressa         FALSE   9.4308804                    0\n",
      "49      Porites lobata         FALSE  11.9300710                    0\n",
      "50  Montipora capitata         FALSE  11.0086986                    0\n",
      "51  Montipora capitata         FALSE  11.1320438                    0\n",
      "52   Porites compressa          TRUE   6.2811078                    1\n",
      "53      Porites lobata         FALSE  11.8056120                    0\n",
      "54  Montipora capitata         FALSE   6.5866987                    0\n",
      "55   Porites compressa          TRUE  -3.5555693                    1\n",
      "56      Porites lobata          TRUE   3.5692472                    1\n",
      "57   Porites compressa         FALSE  11.9810402                    0\n",
      "58      Porites lobata         FALSE  12.2408451                    0\n",
      "59      Porites lobata         FALSE   8.2362726                    0\n",
      "60  Montipora capitata         FALSE   9.6236860                    0\n",
      "61  Montipora capitata         FALSE  10.7685758                    0\n",
      "62  Montipora capitata         FALSE   9.4108760                    0\n",
      "63      Porites lobata         FALSE  10.3528094                    0\n",
      "64   Porites compressa          TRUE   3.6628369                    1\n",
      "65   Porites compressa         FALSE   9.5916670                    0\n",
      "66      Porites lobata         FALSE   6.8991385                    0\n",
      "67   Porites compressa         FALSE  10.8406184                    0\n",
      "68   Porites compressa         FALSE  13.6144403                    0\n",
      "69      Porites lobata         FALSE   7.2188674                    0\n",
      "70   Porites compressa         FALSE   7.5698775                    0\n",
      "71  Montipora capitata         FALSE   7.6481046                    0\n",
      "72   Porites compressa          TRUE   1.6524520                    1\n",
      "73   Porites compressa         FALSE  11.5167433                    0\n",
      "74  Montipora capitata          TRUE  -1.8959794                    1\n",
      "75      Porites lobata         FALSE  13.7520489                    0\n",
      "76   Porites compressa          TRUE  -0.4822119                    1\n",
      "77  Montipora capitata         FALSE   7.5019943                    0\n",
      "78      Porites lobata          TRUE  -1.6606388                    1\n",
      "79   Porites compressa         FALSE   9.4841433                    0\n",
      "80   Porites compressa         FALSE   9.3792642                    0\n",
      "81      Porites lobata         FALSE   8.7587201                    0\n",
      "82  Montipora capitata         FALSE   9.5099879                    0\n",
      "83   Porites compressa         FALSE   8.9681098                    0\n",
      "84   Porites compressa         FALSE   7.8696425                    0\n",
      "85  Montipora capitata         FALSE   8.8026476                    0\n",
      "86      Porites lobata         FALSE   9.5460637                    0\n",
      "87   Porites compressa          TRUE   6.5980673                    1\n",
      "88      Porites lobata         FALSE   9.2327003                    0\n",
      "89  Montipora capitata         FALSE   3.7927654                    0\n",
      "90   Porites compressa         FALSE   8.1997319                    0\n",
      "91   Porites compressa         FALSE   6.7735600                    0\n",
      "92   Porites compressa         FALSE   9.3744868                    0\n",
      "93      Porites lobata         FALSE   7.6986281                    0\n",
      "94      Porites lobata          TRUE  -1.3399450                    1\n",
      "95      Porites lobata         FALSE   6.8908953                    0\n",
      "96      Porites lobata         FALSE  10.2868182                    0\n",
      "97      Porites lobata          TRUE   3.9582687                    1\n",
      "98  Montipora capitata         FALSE  10.2224815                    0\n",
      "99   Porites compressa          TRUE   1.8111684                    1\n",
      "100 Montipora capitata         FALSE   7.3264346                    0\n"
     ]
    }
   ],
   "source": [
    "coral_df$binary_health_status = binary_health_status\n",
    "print(coral_df)"
   ]
  },
  {
   "cell_type": "markdown",
   "id": "a6e28e80",
   "metadata": {},
   "source": [
    "### Q5\n",
    "\n",
    "* Plot the distribution of `coral_cover` for healthy versus diseased corals\n",
    "* Note that I am using a histogram `geom`\n",
    "  * Histograms need only a `x` axis because the `y` is computed (count)\n",
    "    * However, instead of a raw count, we want a normalized count. You can normalize the count by setting `y = stat(count / sum(count))`  \n",
    "  * I am coloring the bin outlines in black and filling in grey for disease and white for healthy\n",
    "  * I am using `binwidth=1'.\n",
    "* use the `labs` function to add a title and to change the labels for the `x` and `y` axes\n",
    "* The plot should look like the following\n",
    "![](https://www.dropbox.com/s/wdbdj05rd50vb0k/healthy-diseased.png?dl=1)"
   ]
  },
  {
   "cell_type": "code",
   "execution_count": 83,
   "id": "23a9adff",
   "metadata": {},
   "outputs": [
    {
     "data": {
      "image/png": "[encoded data removed]",
      "text/plain": [
       "plot without title"
      ]
     },
     "metadata": {
      "image/png": {
       "height": 420,
       "width": 420
      }
     },
     "output_type": "display_data"
    }
   ],
   "source": [
    "ggplot(coral_df, aes(x = coral_cover, y = stat(count / sum(count)))) + \n",
    "    geom_histogram(color = \"black\", \n",
    "                   binwidth = 1,\n",
    "                   alpha = .5,\n",
    "                   aes(coral_cover, fill = health_status)) +\n",
    "                scale_fill_manual(values = c(\"white\", \"grey\")) +\n",
    "    labs(title = \"Total Coral Coverage (Healthy vs. Diseased)\", x = \"Coral Cover\", y = \"Normalized proportion\")"
   ]
  },
  {
   "cell_type": "markdown",
   "id": "5a9538df",
   "metadata": {},
   "source": [
    "### Q6.\n",
    "\n",
    "* Repeat the plot above by highlighting the distribution per species\n",
    "* I am using `geom_density`\n",
    "  * set the `adjust` param of `geom_density` to `2`\n",
    "* Change the `xlim` scale so that we can see the edges of the curves\n",
    "  * I.e., curves should not be cutoff\n"
   ]
  },
  {
   "cell_type": "code",
   "execution_count": 96,
   "id": "ed37781b",
   "metadata": {},
   "outputs": [
    {
     "ename": "ERROR",
     "evalue": "Error in parse(text = x, srcfile = src): <text>:11:0: unexpected end of input\n9:     labs(x = \"Coral Cover\", y = \"Density\", title = \"Total coral coverage per species\") +\n10:     xlim(-10, 20)\n   ^\n",
     "output_type": "error",
     "traceback": [
      "Error in parse(text = x, srcfile = src): <text>:11:0: unexpected end of input\n9:     labs(x = \"Coral Cover\", y = \"Density\", title = \"Total coral coverage per species\") +\n10:     xlim(-10, 20)\n   ^\nTraceback:\n"
     ]
    }
   ],
   "source": [
    "#this code follows the same format as the previous graph, but with geom density. \n",
    "#However, if I include the aes(x=, y=) in the ggplot line then I get an traceback error message for the xlim line. Why is that? \n",
    "ggplot(coral_df, aes(x = coral_cover, y = stat(count / sum(count))) +\n",
    "    geom_density(color = \"black\", \n",
    "               fill = coral_pop,\n",
    "               alpha = 0.2, \n",
    "               adjust = 2) +\n",
    "    scale_fill_manual(values = c(\"white\", \"blue\", \"red\")) +\n",
    "    labs(x = \"Coral Cover\", y = \"Density\", title = \"Total coral coverage per species\") +\n",
    "    xlim(-10, 20)"
   ]
  },
  {
   "cell_type": "code",
   "execution_count": 97,
   "id": "4839415e",
   "metadata": {},
   "outputs": [
    {
     "data": {
      "image/png": "[encoded data removed]",
      "text/plain": [
       "plot without title"
      ]
     },
     "metadata": {
      "image/png": {
       "height": 420,
       "width": 420
      }
     },
     "output_type": "display_data"
    }
   ],
   "source": [
    "ggplot(coral_df) +\n",
    "    geom_density(aes(x = coral_cover, y = stat(count / sum(count)), \n",
    "                fill = coral_pop), \n",
    "                color = \"black\", \n",
    "                alpha = 0.2, \n",
    "                adjust = 2) +\n",
    "    scale_fill_manual(values = c(\"white\", \"blue\", \"red\")) +\n",
    "    labs(x = \"Coral Cover\", y = \"Density\", title = \"Total coral coverage per species\") +\n",
    "    xlim(-10, 20)"
   ]
  },
  {
   "cell_type": "markdown",
   "id": "784fa644",
   "metadata": {},
   "source": [
    "### Q6 -- Challenge\n",
    "\n",
    "\n",
    "Recall problem `8` in the airquality dataset.\n",
    "  * Remember that you can import that dataset using `data(airquality)`\n",
    "1. Convert the `airquality` dataframe to a tibble called `airq_tbl`\n",
    "2. Replace the missing values for Solar.R using that month's average.\n",
    "    * Example:\n",
    "        * The missing value for line 6 in `airq_tbl`should be replaced with the average for month 5.\n",
    "        * The missing value for line 97 in `airq_tbl` should be replaced with the average for month 8.\n",
    "\n",
    "* Strategy:\n",
    "  1. Compute the average values for months 5, 6, 7, 8, and 9 in a names vector called `monthly_avg_SolarR`\n",
    "      * monthly_avg_SolarR[5] should return the average for May.\n",
    "      * monthly_avg_SolarR[6] should return the average for June.\n",
    "      * etc.\n",
    "      * This is an ideal use case for `mapply` with `na.rm=TRUE` (ask me!)\n",
    "  2. for each line of airq_tbl check value of Solar.R and do:\n",
    "    * if value is not `na`, return the value\n",
    "    * if value if `na`; return avg associated with `Month`\n",
    "    * This is an ideal case for `apply`\n",
    "      * You need to write your own function (call it `fix_missing_solar_R`)\n",
    "      * Recall that the argument to that function is a complete row as a vector!\n",
    "    * test your function with the following line to make sure it's working\n",
    "    ```fix_missing_solar_R(airq_tbl[5,])```"
   ]
  },
  {
   "cell_type": "code",
   "execution_count": 101,
   "id": "37af68e4",
   "metadata": {},
   "outputs": [
    {
     "data": {
      "text/html": [
       "<table>\n",
       "<thead><tr><th scope=col>Ozone</th><th scope=col>Solar.R</th><th scope=col>Wind</th><th scope=col>Temp</th><th scope=col>Month</th><th scope=col>Day</th></tr></thead>\n",
       "<tbody>\n",
       "\t<tr><td>41  </td><td>190 </td><td> 7.4</td><td>67  </td><td>5   </td><td>1   </td></tr>\n",
       "\t<tr><td>36  </td><td>118 </td><td> 8.0</td><td>72  </td><td>5   </td><td>2   </td></tr>\n",
       "\t<tr><td>12  </td><td>149 </td><td>12.6</td><td>74  </td><td>5   </td><td>3   </td></tr>\n",
       "\t<tr><td>18  </td><td>313 </td><td>11.5</td><td>62  </td><td>5   </td><td>4   </td></tr>\n",
       "\t<tr><td>NA  </td><td> NA </td><td>14.3</td><td>56  </td><td>5   </td><td>5   </td></tr>\n",
       "\t<tr><td>28  </td><td> NA </td><td>14.9</td><td>66  </td><td>5   </td><td>6   </td></tr>\n",
       "</tbody>\n",
       "</table>\n"
      ],
      "text/latex": [
       "\\begin{tabular}{r|llllll}\n",
       " Ozone & Solar.R & Wind & Temp & Month & Day\\\\\n",
       "\\hline\n",
       "\t 41   & 190  &  7.4 & 67   & 5    & 1   \\\\\n",
       "\t 36   & 118  &  8.0 & 72   & 5    & 2   \\\\\n",
       "\t 12   & 149  & 12.6 & 74   & 5    & 3   \\\\\n",
       "\t 18   & 313  & 11.5 & 62   & 5    & 4   \\\\\n",
       "\t NA   &  NA  & 14.3 & 56   & 5    & 5   \\\\\n",
       "\t 28   &  NA  & 14.9 & 66   & 5    & 6   \\\\\n",
       "\\end{tabular}\n"
      ],
      "text/markdown": [
       "\n",
       "| Ozone | Solar.R | Wind | Temp | Month | Day |\n",
       "|---|---|---|---|---|---|\n",
       "| 41   | 190  |  7.4 | 67   | 5    | 1    |\n",
       "| 36   | 118  |  8.0 | 72   | 5    | 2    |\n",
       "| 12   | 149  | 12.6 | 74   | 5    | 3    |\n",
       "| 18   | 313  | 11.5 | 62   | 5    | 4    |\n",
       "| NA   |  NA  | 14.3 | 56   | 5    | 5    |\n",
       "| 28   |  NA  | 14.9 | 66   | 5    | 6    |\n",
       "\n"
      ],
      "text/plain": [
       "  Ozone Solar.R Wind Temp Month Day\n",
       "1 41    190      7.4 67   5     1  \n",
       "2 36    118      8.0 72   5     2  \n",
       "3 12    149     12.6 74   5     3  \n",
       "4 18    313     11.5 62   5     4  \n",
       "5 NA     NA     14.3 56   5     5  \n",
       "6 28     NA     14.9 66   5     6  "
      ]
     },
     "metadata": {},
     "output_type": "display_data"
    }
   ],
   "source": [
    "data(airquality)\n",
    "airq_tbl = as_tibble(airquality)\n",
    "head(airq_tbl)"
   ]
  },
  {
   "cell_type": "code",
   "execution_count": 118,
   "id": "bc77e9be",
   "metadata": {},
   "outputs": [
    {
     "data": {
      "text/html": [
       "<strong>5:</strong> 181.296296296296"
      ],
      "text/latex": [
       "\\textbf{5:} 181.296296296296"
      ],
      "text/markdown": [
       "**5:** 181.296296296296"
      ],
      "text/plain": [
       "       5 \n",
       "181.2963 "
      ]
     },
     "metadata": {},
     "output_type": "display_data"
    },
    {
     "data": {
      "text/html": [
       "<strong>6:</strong> 190.166666666667"
      ],
      "text/latex": [
       "\\textbf{6:} 190.166666666667"
      ],
      "text/markdown": [
       "**6:** 190.166666666667"
      ],
      "text/plain": [
       "       6 \n",
       "190.1667 "
      ]
     },
     "metadata": {},
     "output_type": "display_data"
    },
    {
     "data": {
      "text/html": [
       "<strong>7:</strong> 216.483870967742"
      ],
      "text/latex": [
       "\\textbf{7:} 216.483870967742"
      ],
      "text/markdown": [
       "**7:** 216.483870967742"
      ],
      "text/plain": [
       "       7 \n",
       "216.4839 "
      ]
     },
     "metadata": {},
     "output_type": "display_data"
    },
    {
     "data": {
      "text/html": [
       "<strong>8:</strong> 171.857142857143"
      ],
      "text/latex": [
       "\\textbf{8:} 171.857142857143"
      ],
      "text/markdown": [
       "**8:** 171.857142857143"
      ],
      "text/plain": [
       "       8 \n",
       "171.8571 "
      ]
     },
     "metadata": {},
     "output_type": "display_data"
    },
    {
     "data": {
      "text/html": [
       "<strong>9:</strong> 167.433333333333"
      ],
      "text/latex": [
       "\\textbf{9:} 167.433333333333"
      ],
      "text/markdown": [
       "**9:** 167.433333333333"
      ],
      "text/plain": [
       "       9 \n",
       "167.4333 "
      ]
     },
     "metadata": {},
     "output_type": "display_data"
    }
   ],
   "source": [
    "#had trouble getting mapply to work, tapply gave me the same results\n",
    "monthly_avg_SolarR = tapply(airq_tbl$Solar.R, airq_tbl$Month, mean, na.rm=TRUE)\n",
    "monthly_avg_SolarR[as.character(5)]\n",
    "monthly_avg_SolarR[as.character(6)]\n",
    "monthly_avg_SolarR[as.character(7)]\n",
    "monthly_avg_SolarR[as.character(8)]\n",
    "monthly_avg_SolarR[as.character(9)]"
   ]
  },
  {
   "cell_type": "code",
   "execution_count": 130,
   "id": "e289e64c",
   "metadata": {},
   "outputs": [
    {
     "data": {
      "text/html": [
       "<strong>5:</strong> 181.296296296296"
      ],
      "text/latex": [
       "\\textbf{5:} 181.296296296296"
      ],
      "text/markdown": [
       "**5:** 181.296296296296"
      ],
      "text/plain": [
       "       5 \n",
       "181.2963 "
      ]
     },
     "metadata": {},
     "output_type": "display_data"
    },
    {
     "data": {
      "text/html": [
       "<strong>5:</strong> 181.296296296296"
      ],
      "text/latex": [
       "\\textbf{5:} 181.296296296296"
      ],
      "text/markdown": [
       "**5:** 181.296296296296"
      ],
      "text/plain": [
       "       5 \n",
       "181.2963 "
      ]
     },
     "metadata": {},
     "output_type": "display_data"
    },
    {
     "data": {
      "text/html": [
       "<table>\n",
       "<thead><tr><th scope=col>Solar.R</th></tr></thead>\n",
       "<tbody>\n",
       "\t<tr><td>299</td></tr>\n",
       "</tbody>\n",
       "</table>\n"
      ],
      "text/latex": [
       "\\begin{tabular}{r|l}\n",
       " Solar.R\\\\\n",
       "\\hline\n",
       "\t 299\\\\\n",
       "\\end{tabular}\n"
      ],
      "text/markdown": [
       "\n",
       "| Solar.R |\n",
       "|---|\n",
       "| 299 |\n",
       "\n"
      ],
      "text/plain": [
       "  Solar.R\n",
       "1 299    "
      ]
     },
     "metadata": {},
     "output_type": "display_data"
    },
    {
     "data": {
      "text/html": [
       "<table>\n",
       "<thead><tr><th scope=col>Solar.R</th></tr></thead>\n",
       "<tbody>\n",
       "\t<tr><td>99</td></tr>\n",
       "</tbody>\n",
       "</table>\n"
      ],
      "text/latex": [
       "\\begin{tabular}{r|l}\n",
       " Solar.R\\\\\n",
       "\\hline\n",
       "\t 99\\\\\n",
       "\\end{tabular}\n"
      ],
      "text/markdown": [
       "\n",
       "| Solar.R |\n",
       "|---|\n",
       "| 99 |\n",
       "\n"
      ],
      "text/plain": [
       "  Solar.R\n",
       "1 99     "
      ]
     },
     "metadata": {},
     "output_type": "display_data"
    },
    {
     "data": {
      "text/html": [
       "<table>\n",
       "<thead><tr><th scope=col>Solar.R</th></tr></thead>\n",
       "<tbody>\n",
       "\t<tr><td>19</td></tr>\n",
       "</tbody>\n",
       "</table>\n"
      ],
      "text/latex": [
       "\\begin{tabular}{r|l}\n",
       " Solar.R\\\\\n",
       "\\hline\n",
       "\t 19\\\\\n",
       "\\end{tabular}\n"
      ],
      "text/markdown": [
       "\n",
       "| Solar.R |\n",
       "|---|\n",
       "| 19 |\n",
       "\n"
      ],
      "text/plain": [
       "  Solar.R\n",
       "1 19     "
      ]
     },
     "metadata": {},
     "output_type": "display_data"
    }
   ],
   "source": [
    "monthly_avg_SolarR = tapply(airq_tbl$Solar.R, airq_tbl$Month, mean, na.rm=TRUE)\n",
    "\n",
    "fix_missing_solar_R = function(x){\n",
    "    \n",
    "    if(is.na(x[\"Solar.R\"])){\n",
    "        monthly_avg_SolarR[as.character(x[\"Month\"])]\n",
    "    }else{\n",
    "        x[\"Solar.R\"]\n",
    "    }   \n",
    "}\n",
    "\n",
    "## I don't understand why these are returning values in different formats and not the correct averages\n",
    "fix_missing_solar_R(airq_tbl[5,])\n",
    "fix_missing_solar_R(airq_tbl[6,])\n",
    "fix_missing_solar_R(airq_tbl[7,])\n",
    "fix_missing_solar_R(airq_tbl[8,])\n",
    "fix_missing_solar_R(airq_tbl[9,])"
   ]
  },
  {
   "cell_type": "code",
   "execution_count": 134,
   "id": "da887a50",
   "metadata": {},
   "outputs": [
    {
     "data": {
      "text/html": [
       "<ol class=list-inline>\n",
       "\t<li>190</li>\n",
       "\t<li>118</li>\n",
       "\t<li>149</li>\n",
       "\t<li>313</li>\n",
       "\t<li>181.296296296296</li>\n",
       "\t<li>181.296296296296</li>\n",
       "\t<li>299</li>\n",
       "\t<li>99</li>\n",
       "\t<li>19</li>\n",
       "\t<li>194</li>\n",
       "\t<li>181.296296296296</li>\n",
       "\t<li>256</li>\n",
       "\t<li>290</li>\n",
       "\t<li>274</li>\n",
       "\t<li>65</li>\n",
       "\t<li>334</li>\n",
       "\t<li>307</li>\n",
       "\t<li>78</li>\n",
       "\t<li>322</li>\n",
       "\t<li>44</li>\n",
       "\t<li>8</li>\n",
       "\t<li>320</li>\n",
       "\t<li>25</li>\n",
       "\t<li>92</li>\n",
       "\t<li>66</li>\n",
       "\t<li>266</li>\n",
       "\t<li>181.296296296296</li>\n",
       "\t<li>13</li>\n",
       "\t<li>252</li>\n",
       "\t<li>223</li>\n",
       "\t<li>279</li>\n",
       "\t<li>286</li>\n",
       "\t<li>287</li>\n",
       "\t<li>242</li>\n",
       "\t<li>186</li>\n",
       "\t<li>220</li>\n",
       "\t<li>264</li>\n",
       "\t<li>127</li>\n",
       "\t<li>273</li>\n",
       "\t<li>291</li>\n",
       "\t<li>323</li>\n",
       "\t<li>259</li>\n",
       "\t<li>250</li>\n",
       "\t<li>148</li>\n",
       "\t<li>332</li>\n",
       "\t<li>322</li>\n",
       "\t<li>191</li>\n",
       "\t<li>284</li>\n",
       "\t<li>37</li>\n",
       "\t<li>120</li>\n",
       "\t<li>137</li>\n",
       "\t<li>150</li>\n",
       "\t<li>59</li>\n",
       "\t<li>91</li>\n",
       "\t<li>250</li>\n",
       "\t<li>135</li>\n",
       "\t<li>127</li>\n",
       "\t<li>47</li>\n",
       "\t<li>98</li>\n",
       "\t<li>31</li>\n",
       "\t<li>138</li>\n",
       "\t<li>269</li>\n",
       "\t<li>248</li>\n",
       "\t<li>236</li>\n",
       "\t<li>101</li>\n",
       "\t<li>175</li>\n",
       "\t<li>314</li>\n",
       "\t<li>276</li>\n",
       "\t<li>267</li>\n",
       "\t<li>272</li>\n",
       "\t<li>175</li>\n",
       "\t<li>139</li>\n",
       "\t<li>264</li>\n",
       "\t<li>175</li>\n",
       "\t<li>291</li>\n",
       "\t<li>48</li>\n",
       "\t<li>260</li>\n",
       "\t<li>274</li>\n",
       "\t<li>285</li>\n",
       "\t<li>187</li>\n",
       "\t<li>220</li>\n",
       "\t<li>7</li>\n",
       "\t<li>258</li>\n",
       "\t<li>295</li>\n",
       "\t<li>294</li>\n",
       "\t<li>223</li>\n",
       "\t<li>81</li>\n",
       "\t<li>82</li>\n",
       "\t<li>213</li>\n",
       "\t<li>275</li>\n",
       "\t<li>253</li>\n",
       "\t<li>254</li>\n",
       "\t<li>83</li>\n",
       "\t<li>24</li>\n",
       "\t<li>77</li>\n",
       "\t<li>171.857142857143</li>\n",
       "\t<li>171.857142857143</li>\n",
       "\t<li>171.857142857143</li>\n",
       "\t<li>255</li>\n",
       "\t<li>229</li>\n",
       "\t<li>207</li>\n",
       "\t<li>222</li>\n",
       "\t<li>137</li>\n",
       "\t<li>192</li>\n",
       "\t<li>273</li>\n",
       "\t<li>157</li>\n",
       "\t<li>64</li>\n",
       "\t<li>71</li>\n",
       "\t<li>51</li>\n",
       "\t<li>115</li>\n",
       "\t<li>244</li>\n",
       "\t<li>190</li>\n",
       "\t<li>259</li>\n",
       "\t<li>36</li>\n",
       "\t<li>255</li>\n",
       "\t<li>212</li>\n",
       "\t<li>238</li>\n",
       "\t<li>215</li>\n",
       "\t<li>153</li>\n",
       "\t<li>203</li>\n",
       "\t<li>225</li>\n",
       "\t<li>237</li>\n",
       "\t<li>188</li>\n",
       "\t<li>167</li>\n",
       "\t<li>197</li>\n",
       "\t<li>183</li>\n",
       "\t<li>189</li>\n",
       "\t<li>95</li>\n",
       "\t<li>92</li>\n",
       "\t<li>252</li>\n",
       "\t<li>220</li>\n",
       "\t<li>230</li>\n",
       "\t<li>259</li>\n",
       "\t<li>236</li>\n",
       "\t<li>259</li>\n",
       "\t<li>238</li>\n",
       "\t<li>24</li>\n",
       "\t<li>112</li>\n",
       "\t<li>237</li>\n",
       "\t<li>224</li>\n",
       "\t<li>27</li>\n",
       "\t<li>238</li>\n",
       "\t<li>201</li>\n",
       "\t<li>238</li>\n",
       "\t<li>14</li>\n",
       "\t<li>139</li>\n",
       "\t<li>49</li>\n",
       "\t<li>20</li>\n",
       "\t<li>193</li>\n",
       "\t<li>145</li>\n",
       "\t<li>191</li>\n",
       "\t<li>131</li>\n",
       "\t<li>223</li>\n",
       "</ol>\n"
      ],
      "text/latex": [
       "\\begin{enumerate*}\n",
       "\\item 190\n",
       "\\item 118\n",
       "\\item 149\n",
       "\\item 313\n",
       "\\item 181.296296296296\n",
       "\\item 181.296296296296\n",
       "\\item 299\n",
       "\\item 99\n",
       "\\item 19\n",
       "\\item 194\n",
       "\\item 181.296296296296\n",
       "\\item 256\n",
       "\\item 290\n",
       "\\item 274\n",
       "\\item 65\n",
       "\\item 334\n",
       "\\item 307\n",
       "\\item 78\n",
       "\\item 322\n",
       "\\item 44\n",
       "\\item 8\n",
       "\\item 320\n",
       "\\item 25\n",
       "\\item 92\n",
       "\\item 66\n",
       "\\item 266\n",
       "\\item 181.296296296296\n",
       "\\item 13\n",
       "\\item 252\n",
       "\\item 223\n",
       "\\item 279\n",
       "\\item 286\n",
       "\\item 287\n",
       "\\item 242\n",
       "\\item 186\n",
       "\\item 220\n",
       "\\item 264\n",
       "\\item 127\n",
       "\\item 273\n",
       "\\item 291\n",
       "\\item 323\n",
       "\\item 259\n",
       "\\item 250\n",
       "\\item 148\n",
       "\\item 332\n",
       "\\item 322\n",
       "\\item 191\n",
       "\\item 284\n",
       "\\item 37\n",
       "\\item 120\n",
       "\\item 137\n",
       "\\item 150\n",
       "\\item 59\n",
       "\\item 91\n",
       "\\item 250\n",
       "\\item 135\n",
       "\\item 127\n",
       "\\item 47\n",
       "\\item 98\n",
       "\\item 31\n",
       "\\item 138\n",
       "\\item 269\n",
       "\\item 248\n",
       "\\item 236\n",
       "\\item 101\n",
       "\\item 175\n",
       "\\item 314\n",
       "\\item 276\n",
       "\\item 267\n",
       "\\item 272\n",
       "\\item 175\n",
       "\\item 139\n",
       "\\item 264\n",
       "\\item 175\n",
       "\\item 291\n",
       "\\item 48\n",
       "\\item 260\n",
       "\\item 274\n",
       "\\item 285\n",
       "\\item 187\n",
       "\\item 220\n",
       "\\item 7\n",
       "\\item 258\n",
       "\\item 295\n",
       "\\item 294\n",
       "\\item 223\n",
       "\\item 81\n",
       "\\item 82\n",
       "\\item 213\n",
       "\\item 275\n",
       "\\item 253\n",
       "\\item 254\n",
       "\\item 83\n",
       "\\item 24\n",
       "\\item 77\n",
       "\\item 171.857142857143\n",
       "\\item 171.857142857143\n",
       "\\item 171.857142857143\n",
       "\\item 255\n",
       "\\item 229\n",
       "\\item 207\n",
       "\\item 222\n",
       "\\item 137\n",
       "\\item 192\n",
       "\\item 273\n",
       "\\item 157\n",
       "\\item 64\n",
       "\\item 71\n",
       "\\item 51\n",
       "\\item 115\n",
       "\\item 244\n",
       "\\item 190\n",
       "\\item 259\n",
       "\\item 36\n",
       "\\item 255\n",
       "\\item 212\n",
       "\\item 238\n",
       "\\item 215\n",
       "\\item 153\n",
       "\\item 203\n",
       "\\item 225\n",
       "\\item 237\n",
       "\\item 188\n",
       "\\item 167\n",
       "\\item 197\n",
       "\\item 183\n",
       "\\item 189\n",
       "\\item 95\n",
       "\\item 92\n",
       "\\item 252\n",
       "\\item 220\n",
       "\\item 230\n",
       "\\item 259\n",
       "\\item 236\n",
       "\\item 259\n",
       "\\item 238\n",
       "\\item 24\n",
       "\\item 112\n",
       "\\item 237\n",
       "\\item 224\n",
       "\\item 27\n",
       "\\item 238\n",
       "\\item 201\n",
       "\\item 238\n",
       "\\item 14\n",
       "\\item 139\n",
       "\\item 49\n",
       "\\item 20\n",
       "\\item 193\n",
       "\\item 145\n",
       "\\item 191\n",
       "\\item 131\n",
       "\\item 223\n",
       "\\end{enumerate*}\n"
      ],
      "text/markdown": [
       "1. 190\n",
       "2. 118\n",
       "3. 149\n",
       "4. 313\n",
       "5. 181.296296296296\n",
       "6. 181.296296296296\n",
       "7. 299\n",
       "8. 99\n",
       "9. 19\n",
       "10. 194\n",
       "11. 181.296296296296\n",
       "12. 256\n",
       "13. 290\n",
       "14. 274\n",
       "15. 65\n",
       "16. 334\n",
       "17. 307\n",
       "18. 78\n",
       "19. 322\n",
       "20. 44\n",
       "21. 8\n",
       "22. 320\n",
       "23. 25\n",
       "24. 92\n",
       "25. 66\n",
       "26. 266\n",
       "27. 181.296296296296\n",
       "28. 13\n",
       "29. 252\n",
       "30. 223\n",
       "31. 279\n",
       "32. 286\n",
       "33. 287\n",
       "34. 242\n",
       "35. 186\n",
       "36. 220\n",
       "37. 264\n",
       "38. 127\n",
       "39. 273\n",
       "40. 291\n",
       "41. 323\n",
       "42. 259\n",
       "43. 250\n",
       "44. 148\n",
       "45. 332\n",
       "46. 322\n",
       "47. 191\n",
       "48. 284\n",
       "49. 37\n",
       "50. 120\n",
       "51. 137\n",
       "52. 150\n",
       "53. 59\n",
       "54. 91\n",
       "55. 250\n",
       "56. 135\n",
       "57. 127\n",
       "58. 47\n",
       "59. 98\n",
       "60. 31\n",
       "61. 138\n",
       "62. 269\n",
       "63. 248\n",
       "64. 236\n",
       "65. 101\n",
       "66. 175\n",
       "67. 314\n",
       "68. 276\n",
       "69. 267\n",
       "70. 272\n",
       "71. 175\n",
       "72. 139\n",
       "73. 264\n",
       "74. 175\n",
       "75. 291\n",
       "76. 48\n",
       "77. 260\n",
       "78. 274\n",
       "79. 285\n",
       "80. 187\n",
       "81. 220\n",
       "82. 7\n",
       "83. 258\n",
       "84. 295\n",
       "85. 294\n",
       "86. 223\n",
       "87. 81\n",
       "88. 82\n",
       "89. 213\n",
       "90. 275\n",
       "91. 253\n",
       "92. 254\n",
       "93. 83\n",
       "94. 24\n",
       "95. 77\n",
       "96. 171.857142857143\n",
       "97. 171.857142857143\n",
       "98. 171.857142857143\n",
       "99. 255\n",
       "100. 229\n",
       "101. 207\n",
       "102. 222\n",
       "103. 137\n",
       "104. 192\n",
       "105. 273\n",
       "106. 157\n",
       "107. 64\n",
       "108. 71\n",
       "109. 51\n",
       "110. 115\n",
       "111. 244\n",
       "112. 190\n",
       "113. 259\n",
       "114. 36\n",
       "115. 255\n",
       "116. 212\n",
       "117. 238\n",
       "118. 215\n",
       "119. 153\n",
       "120. 203\n",
       "121. 225\n",
       "122. 237\n",
       "123. 188\n",
       "124. 167\n",
       "125. 197\n",
       "126. 183\n",
       "127. 189\n",
       "128. 95\n",
       "129. 92\n",
       "130. 252\n",
       "131. 220\n",
       "132. 230\n",
       "133. 259\n",
       "134. 236\n",
       "135. 259\n",
       "136. 238\n",
       "137. 24\n",
       "138. 112\n",
       "139. 237\n",
       "140. 224\n",
       "141. 27\n",
       "142. 238\n",
       "143. 201\n",
       "144. 238\n",
       "145. 14\n",
       "146. 139\n",
       "147. 49\n",
       "148. 20\n",
       "149. 193\n",
       "150. 145\n",
       "151. 191\n",
       "152. 131\n",
       "153. 223\n",
       "\n",
       "\n"
      ],
      "text/plain": [
       "  [1] 190.0000 118.0000 149.0000 313.0000 181.2963 181.2963 299.0000  99.0000\n",
       "  [9]  19.0000 194.0000 181.2963 256.0000 290.0000 274.0000  65.0000 334.0000\n",
       " [17] 307.0000  78.0000 322.0000  44.0000   8.0000 320.0000  25.0000  92.0000\n",
       " [25]  66.0000 266.0000 181.2963  13.0000 252.0000 223.0000 279.0000 286.0000\n",
       " [33] 287.0000 242.0000 186.0000 220.0000 264.0000 127.0000 273.0000 291.0000\n",
       " [41] 323.0000 259.0000 250.0000 148.0000 332.0000 322.0000 191.0000 284.0000\n",
       " [49]  37.0000 120.0000 137.0000 150.0000  59.0000  91.0000 250.0000 135.0000\n",
       " [57] 127.0000  47.0000  98.0000  31.0000 138.0000 269.0000 248.0000 236.0000\n",
       " [65] 101.0000 175.0000 314.0000 276.0000 267.0000 272.0000 175.0000 139.0000\n",
       " [73] 264.0000 175.0000 291.0000  48.0000 260.0000 274.0000 285.0000 187.0000\n",
       " [81] 220.0000   7.0000 258.0000 295.0000 294.0000 223.0000  81.0000  82.0000\n",
       " [89] 213.0000 275.0000 253.0000 254.0000  83.0000  24.0000  77.0000 171.8571\n",
       " [97] 171.8571 171.8571 255.0000 229.0000 207.0000 222.0000 137.0000 192.0000\n",
       "[105] 273.0000 157.0000  64.0000  71.0000  51.0000 115.0000 244.0000 190.0000\n",
       "[113] 259.0000  36.0000 255.0000 212.0000 238.0000 215.0000 153.0000 203.0000\n",
       "[121] 225.0000 237.0000 188.0000 167.0000 197.0000 183.0000 189.0000  95.0000\n",
       "[129]  92.0000 252.0000 220.0000 230.0000 259.0000 236.0000 259.0000 238.0000\n",
       "[137]  24.0000 112.0000 237.0000 224.0000  27.0000 238.0000 201.0000 238.0000\n",
       "[145]  14.0000 139.0000  49.0000  20.0000 193.0000 145.0000 191.0000 131.0000\n",
       "[153] 223.0000"
      ]
     },
     "metadata": {},
     "output_type": "display_data"
    }
   ],
   "source": [
    "# not sure why only getting first month value change and no display of all the other months \n",
    "SolarR_fixed = apply(airq_tbl, 1, fix_missing_solar_R)\n",
    "SolarR_fixed"
   ]
  },
  {
   "cell_type": "code",
   "execution_count": null,
   "id": "fb8d50ce",
   "metadata": {},
   "outputs": [],
   "source": []
  }
 ],
 "metadata": {
  "kernelspec": {
   "display_name": "R",
   "language": "R",
   "name": "ir"
  },
  "language_info": {
   "codemirror_mode": "r",
   "file_extension": ".r",
   "mimetype": "text/x-r-source",
   "name": "R",
   "pygments_lexer": "r",
   "version": "3.6.1"
  }
 },
 "nbformat": 4,
 "nbformat_minor": 5
}
